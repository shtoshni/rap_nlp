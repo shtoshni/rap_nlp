{
 "cells": [
  {
   "cell_type": "code",
   "execution_count": 24,
   "metadata": {},
   "outputs": [],
   "source": [
    "import os\n",
    "import glob\n",
    "from os import path\n",
    "from transformers import BasicTokenizer"
   ]
  },
  {
   "cell_type": "code",
   "execution_count": 25,
   "metadata": {},
   "outputs": [],
   "source": [
    "data_dir = \"/home/shtoshni/Research/rap_nlp/data/lambada/final_data\"\n",
    "data_files = glob.glob(path.join(data_dir, \"*.txt\"))\n",
    "stopword_file = \"/home/shtoshni/Research/rap_nlp/data/lambada/proc_wiseman/mctest-stopwords.txt\"\n",
    "\n",
    "tokenizer = BasicTokenizer()"
   ]
  },
  {
   "cell_type": "code",
   "execution_count": 26,
   "metadata": {},
   "outputs": [],
   "source": [
    "def load_stopwords(stopword_file):\n",
    "    stopwords = set()\n",
    "    with open(stopword_file) as f:\n",
    "        for text in f:\n",
    "            text = text.strip()\n",
    "            stopwords.add(text)\n",
    "            \n",
    "    return stopwords"
   ]
  },
  {
   "cell_type": "code",
   "execution_count": 27,
   "metadata": {},
   "outputs": [],
   "source": [
    "def preprocess(text):\n",
    "    text = text.replace(\"“\", '\"')\n",
    "    text = text.replace(\"”\", '\"')\n",
    "    text = text.replace(\"''\", '\"')\n",
    "    text = text.replace(\"``\", '\"')\n",
    "    return text.strip()\n",
    "\n",
    "\n",
    "def remove_last_word(line):\n",
    "    line = line.strip()\n",
    "    toks = tokenizer.tokenize(line)\n",
    "    length_of_word = len(toks[-1])\n",
    "    assert length_of_word>0\n",
    "    return line[:-length_of_word].strip(), toks[-1]"
   ]
  },
  {
   "cell_type": "code",
   "execution_count": null,
   "metadata": {},
   "outputs": [],
   "source": [
    "stopwords = load_stopwords(stopword_file)\n",
    "\n",
    "for data_file in data_files:\n",
    "    proc_file = path.join(data_dir, \"proc_\" + path.basename(data_file))\n",
    "    with open(data_file) as read_f, open(proc_file, 'w') as write_f:\n",
    "        for instance in read_f:\n",
    "            instance = preprocess(instance)\n",
    "            prefix, last_word = remove_last_word(instance)\n",
    "            if last_word not in stopwords:\n",
    "                write_f.write(f\"{prefix}\\t{last_word}\\n\")"
   ]
  }
 ],
 "metadata": {
  "kernelspec": {
   "display_name": "Python [conda env:lm_inductive] *",
   "language": "python",
   "name": "conda-env-lm_inductive-py"
  },
  "language_info": {
   "codemirror_mode": {
    "name": "ipython",
    "version": 3
   },
   "file_extension": ".py",
   "mimetype": "text/x-python",
   "name": "python",
   "nbconvert_exporter": "python",
   "pygments_lexer": "ipython3",
   "version": "3.7.7"
  }
 },
 "nbformat": 4,
 "nbformat_minor": 4
}
