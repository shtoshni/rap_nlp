{
 "cells": [
  {
   "cell_type": "code",
   "execution_count": 1,
   "id": "difficult-preserve",
   "metadata": {},
   "outputs": [],
   "source": [
    "from datasets import load_dataset"
   ]
  },
  {
   "cell_type": "code",
   "execution_count": 2,
   "id": "robust-might",
   "metadata": {},
   "outputs": [
    {
     "name": "stderr",
     "output_type": "stream",
     "text": [
      "Using custom data configuration default\n",
      "Reusing dataset xsum (/home/shtoshni/.cache/huggingface/datasets/xsum/default/1.2.0/f9abaabb5e2b2a1e765c25417264722d31877b34ec34b437c53242f6e5c30d6d)\n"
     ]
    }
   ],
   "source": [
    "dataset = load_dataset('xsum')"
   ]
  },
  {
   "cell_type": "code",
   "execution_count": 3,
   "id": "alone-hawaii",
   "metadata": {},
   "outputs": [
    {
     "name": "stdout",
     "output_type": "stream",
     "text": [
      "DatasetDict({\n",
      "    train: Dataset({\n",
      "        features: ['document', 'summary', 'id'],\n",
      "        num_rows: 204045\n",
      "    })\n",
      "    validation: Dataset({\n",
      "        features: ['document', 'summary', 'id'],\n",
      "        num_rows: 11332\n",
      "    })\n",
      "    test: Dataset({\n",
      "        features: ['document', 'summary', 'id'],\n",
      "        num_rows: 11334\n",
      "    })\n",
      "})\n"
     ]
    }
   ],
   "source": [
    "print(dataset)"
   ]
  },
  {
   "cell_type": "code",
   "execution_count": 4,
   "id": "emerging-houston",
   "metadata": {},
   "outputs": [],
   "source": [
    "# dataset['test'][0]"
   ]
  },
  {
   "cell_type": "code",
   "execution_count": 5,
   "id": "competent-russia",
   "metadata": {},
   "outputs": [],
   "source": [
    "from transformers import BertTokenizerFast\n",
    "\n",
    "tokenizer = BertTokenizerFast.from_pretrained('bert-base-cased')"
   ]
  },
  {
   "cell_type": "code",
   "execution_count": 19,
   "id": "dietary-participation",
   "metadata": {},
   "outputs": [
    {
     "data": {
      "text/plain": [
       "{'document': \"In a nod to Mr Trudeau's fondness for statement socks, he wore Canada-themed mountie and maple leaf print ones to welcome his first foreign visitor.\\nMr Trudeau opted for a more subtle striped pair on his first official engagement in the Republic of Ireland.\\nThe Canadian premier is in the country for a three-day visit.\\nAway from talk of socks, trade issues are set to dominate the agenda, with the Canada-EU free trade deal expected to be a focal point of talks between the two leaders.\\nMr Trudeau arrived in Dublin with his wife, Sophie GrÃ©goire, and their youngest son, Hadrien, on Monday.\\nHe is in Europe for a key G20 summit in Hamburg, Germany later this week.\\nMr Trudeau is also due to meet Irish President Michael D Higgins at his official residence.\\nThe visit was arranged in May when Mr Varadkar's predecessor Enda Kenny met the Canadian leader in Montreal.\\nOn that occasion, Mr Trudeau wore special Star Wars themed socks, as it coincided with the widely-celebrated Star Wars Day on 4 May.\",\n",
       " 'id': '40493408',\n",
       " 'summary': 'Irish Taoiseach (PM) Leo Varadkar has engaged in some \"sock diplomacy\" in his first meeting with Canadian Prime Minister Justin Trudeau in Dublin.'}"
      ]
     },
     "execution_count": 19,
     "metadata": {},
     "output_type": "execute_result"
    }
   ],
   "source": [
    "dataset['validation'][2]"
   ]
  },
  {
   "cell_type": "code",
   "execution_count": 13,
   "id": "continental-mauritius",
   "metadata": {},
   "outputs": [],
   "source": [
    "output_dict = model.perform_coreference(dataset['validation'][0]['summary'] + dataset['validation'][0]['document'])"
   ]
  },
  {
   "cell_type": "code",
   "execution_count": 14,
   "id": "continent-vancouver",
   "metadata": {},
   "outputs": [
    {
     "data": {
      "text/plain": [
       "dict_keys(['sentences', 'real_sentences', 'start_indices', 'end_indices', 'sentence_map', 'subtoken_map', 'part_lens', 'doc_key'])"
      ]
     },
     "execution_count": 14,
     "metadata": {},
     "output_type": "execute_result"
    }
   ],
   "source": [
    "output_dict['tokenized_doc'].keys()"
   ]
  },
  {
   "cell_type": "code",
   "execution_count": 15,
   "id": "fifteen-nothing",
   "metadata": {},
   "outputs": [
    {
     "name": "stdout",
     "output_type": "stream",
     "text": [
      "['US', 'technology', 'firm', 'Apple', 'has', 'offered', 'to', 're', '##fu', '##nd', 'Australian', 'customers', 'who', 'felt', 'mi', '##sle', '##d', 'about', 'the', '4', '##G', 'capabilities', 'of', 'the', 'new', 'i', '##Pad', '.']\n"
     ]
    }
   ],
   "source": [
    "tokenized_summary = tokenizer.tokenize(dataset['validation'][0]['summary'])\n",
    "print(tokenized_summary)\n",
    "assert (tokenized_summary == output_dict['tokenized_doc']['sentences'][0][:len(tokenized_summary)])"
   ]
  },
  {
   "cell_type": "code",
   "execution_count": 16,
   "id": "skilled-essex",
   "metadata": {},
   "outputs": [
    {
     "name": "stdout",
     "output_type": "stream",
     "text": [
      "[[((41, 42), 'false advertising')], [((51, 56), \"Australia's 4G network\")], [((98, 98), 'Tuesday')], [((164, 165), 'a complaint')], [((167, 171), 'the Federal Court in Melbourne')], [((171, 171), 'Melbourne')], [((174, 176), 'a preliminary hearing')], [((178, 184), 'Apple lawyer Paul Anastassiou')], [((203, 204), 'Telstra')], [((225, 226), 'The matter')], [((230, 232), 'a full trial')], [((234, 235), '2 May')], [((248, 250), 'earlier this month')], [((273, 274), 'opening day')], [((279, 279), 'it')], [((321, 322), 'its website')], [((328, 331), '4G LTE')], [((336, 342), 'selected networks in the US and Canada')], [((339, 340), 'the US')], [((339, 342), 'the US and Canada')], [((342, 342), 'Canada')]]\n"
     ]
    }
   ],
   "source": [
    "print([cluster for cluster in output_dict['clusters'] if len(cluster) == 1])"
   ]
  },
  {
   "cell_type": "code",
   "execution_count": 17,
   "id": "large-textbook",
   "metadata": {},
   "outputs": [
    {
     "data": {
      "text/plain": [
       "'The country\\'s consumer watchdog has taken Apple to court for false advertising because the tablet computer does not work on Australia\\'s 4G network.\\nApple\\'s lawyers said they were willing to publish a clarification.\\nHowever the company does not accept that it misled customers.\\nThe Australian Competition and Consumer Commission (ACCC) said on Tuesday: \"Apple\\'s recent promotion of the new \\'iPad with wi-fi + 4G\\' is misleading because it represents to Australian consumers that the product can, with a sim card, connect to a 4G mobile data network in Australia, when this is not the case.\"\\nThe watchdog then lodged a complaint at the Federal Court in Melbourne.\\nAt a preliminary hearing, Apple lawyer Paul Anastassiou said Apple had never claimed the device would work fully on the current 4G network operated by Telstra.\\nApple says the new iPad works on what is globally accepted to be a 4G network.\\nThe matter will go to a full trial on 2 May.\\nThe Apple iPad\\'s third version went on sale earlier this month, with Australia the first country where it was available.\\nShoppers lined up by the hundreds at Apple stores on opening day and the company said it had been its strongest iPad launch to date.\\nThe ACCC said it was seeking an injunction on sales as well as a financial penalty against Apple, corrective advertising and refunds to consumers.\\nOn its website, Apple does state that 4G LTE is only supported on selected networks in the US and Canada.'"
      ]
     },
     "execution_count": 17,
     "metadata": {},
     "output_type": "execute_result"
    }
   ],
   "source": [
    "dataset['validation'][0]['document']"
   ]
  }
 ],
 "metadata": {
  "kernelspec": {
   "display_name": "Python [conda env:rap_nlp] *",
   "language": "python",
   "name": "conda-env-rap_nlp-py"
  },
  "language_info": {
   "codemirror_mode": {
    "name": "ipython",
    "version": 3
   },
   "file_extension": ".py",
   "mimetype": "text/x-python",
   "name": "python",
   "nbconvert_exporter": "python",
   "pygments_lexer": "ipython3",
   "version": "3.8.5"
  }
 },
 "nbformat": 4,
 "nbformat_minor": 5
}
