{
 "cells": [
  {
   "cell_type": "code",
   "execution_count": 1,
   "id": "certified-think",
   "metadata": {},
   "outputs": [],
   "source": [
    "import torch"
   ]
  },
  {
   "cell_type": "code",
   "execution_count": 2,
   "id": "wireless-damages",
   "metadata": {},
   "outputs": [],
   "source": [
    "a = torch.randn(5)\n",
    "b = torch.randn(5)\n"
   ]
  },
  {
   "cell_type": "code",
   "execution_count": 11,
   "id": "latter-suggestion",
   "metadata": {},
   "outputs": [],
   "source": [
    "c = torch.stack((a, b), dim=1)"
   ]
  },
  {
   "cell_type": "code",
   "execution_count": 12,
   "id": "refined-motivation",
   "metadata": {},
   "outputs": [
    {
     "data": {
      "text/plain": [
       "torch.Size([5, 2])"
      ]
     },
     "execution_count": 12,
     "metadata": {},
     "output_type": "execute_result"
    }
   ],
   "source": [
    "c.shape"
   ]
  },
  {
   "cell_type": "code",
   "execution_count": 13,
   "id": "commercial-viewer",
   "metadata": {},
   "outputs": [
    {
     "data": {
      "text/plain": [
       "[[2.2748870849609375, -1.2813585996627808],\n",
       " [1.311490535736084, -1.2949739694595337],\n",
       " [0.5808225274085999, -0.13768979907035828],\n",
       " [-3.01361083984375, 1.7458922863006592],\n",
       " [-0.08605460822582245, -0.6450367569923401]]"
      ]
     },
     "execution_count": 13,
     "metadata": {},
     "output_type": "execute_result"
    }
   ],
   "source": [
    "c.tolist()"
   ]
  },
  {
   "cell_type": "code",
   "execution_count": 15,
   "id": "persistent-holder",
   "metadata": {},
   "outputs": [],
   "source": [
    "input1 = torch.randn(100, 128)\n",
    "input2 = torch.randn(100, 128)\n",
    "cos = torch.nn.CosineSimilarity(dim=1, eps=1e-6)\n",
    "output = cos(input1, input2)"
   ]
  },
  {
   "cell_type": "code",
   "execution_count": 16,
   "id": "detected-louisiana",
   "metadata": {},
   "outputs": [
    {
     "data": {
      "text/plain": [
       "torch.Size([100])"
      ]
     },
     "execution_count": 16,
     "metadata": {},
     "output_type": "execute_result"
    }
   ],
   "source": [
    "output.shape"
   ]
  },
  {
   "cell_type": "code",
   "execution_count": 8,
   "id": "proper-mambo",
   "metadata": {},
   "outputs": [
    {
     "data": {
      "text/plain": [
       "(tensor([ 2.2749,  1.3115,  0.5808, -3.0136, -0.0861]),\n",
       " tensor([-1.2814, -1.2950, -0.1377,  1.7459, -0.6450]))"
      ]
     },
     "execution_count": 8,
     "metadata": {},
     "output_type": "execute_result"
    }
   ],
   "source": [
    "torch.unbind(c, dim=0)"
   ]
  },
  {
   "cell_type": "code",
   "execution_count": 19,
   "id": "antique-deployment",
   "metadata": {},
   "outputs": [
    {
     "name": "stdout",
     "output_type": "stream",
     "text": [
      "['UNALSO SEE']\n"
     ]
    }
   ],
   "source": [
    "from transformers import BartForConditionalGeneration, BartTokenizer\n",
    "model = BartForConditionalGeneration.from_pretrained(\"facebook/bart-large\")\n",
    "tok = BartTokenizer.from_pretrained(\"facebook/bart-large\")\n",
    "\n",
    "# assert tok.batch_decode(generated_ids, skip_special_tokens=True) == ['UN Chief Says There Is No Plan to Stop Chemical Weapons in Syria']"
   ]
  },
  {
   "cell_type": "code",
   "execution_count": 20,
   "id": "celtic-solid",
   "metadata": {},
   "outputs": [
    {
     "name": "stdout",
     "output_type": "stream",
     "text": [
      "['UNALSO SEE']\n"
     ]
    }
   ],
   "source": [
    "example_english_phrase = \"UN Chief Says There Is No <mask> in Syria\"\n",
    "batch = tok(example_english_phrase, return_tensors='pt')\n",
    "generated_ids = model.generate(batch['input_ids'])\n",
    "print(tok.batch_decode(generated_ids, skip_special_tokens=True))"
   ]
  }
 ],
 "metadata": {
  "kernelspec": {
   "display_name": "Python [conda env:rap_nlp] *",
   "language": "python",
   "name": "conda-env-rap_nlp-py"
  },
  "language_info": {
   "codemirror_mode": {
    "name": "ipython",
    "version": 3
   },
   "file_extension": ".py",
   "mimetype": "text/x-python",
   "name": "python",
   "nbconvert_exporter": "python",
   "pygments_lexer": "ipython3",
   "version": "3.8.5"
  }
 },
 "nbformat": 4,
 "nbformat_minor": 5
}
