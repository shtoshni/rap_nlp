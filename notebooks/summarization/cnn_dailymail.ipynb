{
 "cells": [
  {
   "cell_type": "code",
   "execution_count": 1,
   "id": "difficult-preserve",
   "metadata": {},
   "outputs": [],
   "source": [
    "from datasets import load_dataset"
   ]
  },
  {
   "cell_type": "code",
   "execution_count": 2,
   "id": "robust-might",
   "metadata": {},
   "outputs": [
    {
     "name": "stderr",
     "output_type": "stream",
     "text": [
      "Reusing dataset cnn_dailymail (/home/shtoshni/.cache/huggingface/datasets/cnn_dailymail/3.0.0/3.0.0/0128610a44e10f25b4af6689441c72af86205282d26399642f7db38fa7535602)\n"
     ]
    }
   ],
   "source": [
    "dataset = load_dataset('cnn_dailymail', '3.0.0')"
   ]
  },
  {
   "cell_type": "code",
   "execution_count": 3,
   "id": "alone-hawaii",
   "metadata": {},
   "outputs": [
    {
     "name": "stdout",
     "output_type": "stream",
     "text": [
      "DatasetDict({\n",
      "    train: Dataset({\n",
      "        features: ['article', 'highlights', 'id'],\n",
      "        num_rows: 287113\n",
      "    })\n",
      "    validation: Dataset({\n",
      "        features: ['article', 'highlights', 'id'],\n",
      "        num_rows: 13368\n",
      "    })\n",
      "    test: Dataset({\n",
      "        features: ['article', 'highlights', 'id'],\n",
      "        num_rows: 11490\n",
      "    })\n",
      "})\n"
     ]
    }
   ],
   "source": [
    "print(dataset)"
   ]
  },
  {
   "cell_type": "code",
   "execution_count": 4,
   "id": "after-visibility",
   "metadata": {},
   "outputs": [
    {
     "data": {
      "text/plain": [
       "dict_keys(['train', 'validation', 'test'])"
      ]
     },
     "execution_count": 4,
     "metadata": {},
     "output_type": "execute_result"
    }
   ],
   "source": [
    "dataset.keys()"
   ]
  },
  {
   "cell_type": "code",
   "execution_count": 5,
   "id": "civil-amazon",
   "metadata": {},
   "outputs": [],
   "source": [
    "data = dataset['validation']"
   ]
  },
  {
   "cell_type": "code",
   "execution_count": 49,
   "id": "missing-recycling",
   "metadata": {},
   "outputs": [
    {
     "data": {
      "text/plain": [
       "{'article': ['(CNN)Singer-songwriter David Crosby hit a jogger with his car Sunday evening, a spokesman said. The accident happened in Santa Ynez, California, near where Crosby lives. Crosby was driving at approximately 50 mph when he struck the jogger, according to California Highway Patrol Spokesman Don Clotworthy. The posted speed limit was 55. The jogger suffered multiple fractures, and was airlifted to a hospital in Santa Barbara, Clotworthy said. His injuries are not believed to be life threatening. \"Mr. Crosby was cooperative with authorities and he was not impaired or intoxicated in any way. Mr. Crosby did not see the jogger because of the sun,\" said Clotworthy. According to the spokesman, the jogger and Crosby were on the same side of the road. Pedestrians are supposed to be on the left side of the road walking toward traffic, Clotworthy said. Joggers are considered pedestrians. Crosby is known for weaving multilayered harmonies over sweet melodies. He belongs to the celebrated rock group Crosby, Stills & Nash. \"David Crosby is obviously very upset that he accidentally hit anyone. And, based off of initial reports, he is relieved that the injuries to the gentleman were not life threatening,\" said Michael Jensen, a Crosby spokesman. \"He wishes the jogger a very speedy recovery.\"',\n",
       "  '(CNN)Sigma Alpha Epsilon is under fire for a video showing party-bound fraternity members singing a racist chant. SAE\\'s national chapter suspended the students, but University of Oklahoma President David Boren took it a step further, saying the university\\'s affiliation with the fraternity is permanently done. The news is shocking, but it\\'s not the first time SAE has faced controversy. SAE was founded March 9, 1856, at the University of Alabama, five years before the American Civil War, according to the fraternity website. When the war began, the group had fewer than 400 members, of which \"369 went to war for the Confederate States and seven for the Union Army,\" the website says. The fraternity now boasts more than 200,000 living alumni, along with about 15,000 undergraduates populating 219 chapters and 20 \"colonies\" seeking full membership at universities. SAE has had to work hard to change recently after a string of member deaths, many blamed on the hazing of new recruits, SAE national President Bradley Cohen wrote in a message on the fraternity\\'s website. The fraternity\\'s website lists more than 130 chapters cited or suspended for \"health and safety incidents\" since 2010. At least 30 of the incidents involved hazing, and dozens more involved alcohol. However, the list is missing numerous incidents from recent months. Among them, according to various media outlets: Yale University banned the SAEs from campus activities last month after members allegedly tried to interfere with a sexual misconduct investigation connected to an initiation rite. Stanford University in December suspended SAE housing privileges after finding sorority members attending a fraternity function were subjected to graphic sexual content. And Johns Hopkins University in November suspended the fraternity for underage drinking. \"The media has labeled us as the \\'nation\\'s deadliest fraternity,\\' \" Cohen said. In 2011, for example, a student died while being coerced into excessive alcohol consumption, according to a lawsuit. SAE\\'s previous insurer dumped the fraternity. \"As a result, we are paying Lloyd\\'s of London the highest insurance rates in the Greek-letter world,\" Cohen said. Universities have turned down SAE\\'s attempts to open new chapters, and the fraternity had to close 12 in 18 months over hazing incidents.',\n",
       "  '(CNN)I\\'m Candida Moss and I am professor of New Testament and Early Christianity at the University of Notre Dame. I was an adviser on the \"True Cross\" episode and served as one of the many on-camera experts in CNN\\'s \"Finding Jesus\" series, which currently airs on Sundays. Viewers were invited to tweet and post their questions on the \"Finding Jesus\" Facebook page during the show. Below are some of the more interesting questions and my answers to them. My apologies to everyone I didn\\'t get to. Feel free to tweet your questions to me directly. Herb Scribner: Can anyone explain to me what the Bible\\'s deal is with 40 days/nights? Moss: It\\'s more an interest in the number 40. In the Hebrew Bible the people of Israel wander in the wilderness for 40 years before they reach the Holy Land. The flood lasts for 40 days and nights; Moses spends 40 days and nights on the mountain; Goliath spends 40 days encouraging the Israelites to challenge him before David steps up; 40 is a common age for people to be when they get married; in the book of Judges it is always 40 years between judges; and David and Solomon each reigned for 40 years. What we can take away from all of this is that people in the ancient world saw 40 as suggesting a full, complete period of time. It\\'s sort of like a narrative stock number, in the way that modern jokes follow the rule of three. Yalanda M. Price: Was there any division between the followers of Jesus and the followers of John the Baptist? Moss: One of the interesting things about the relationship between Jesus and John the Baptist is that John doesn\\'t lay down his tools and follow Jesus after he baptizes him. Nor, it seems, did John\\'s disciples. They had separate ministries and, while there may have been contact between the two groups, they were also de facto competitors in the ancient religious marketplace. There are some hints in the New Testament that Jesus and his followers had to differentiate themselves from John by stating that Jesus\\' baptism was better (Acts 11:6) and countering the idea that Jesus was actually John raised from the dead (Matthew 14:2) Some scholars argue that these references are evidence of tension between followers of Jesus and followers of John. Mark Goodacre answers your questions about the Shroud of Turin. Jeffery Graff: Can the DNA tests on the bones indicate whether he is a Jew or even whether he is of the tribe of Levi? Moss: I\\'m so glad someone brought up DNA. The DNA tests on the Bulgarian bones yielded only mitochondrial DNA (DNA passed down by the mother), not the more reliable nuclear DNA (the kind of DNA referred to in forensic investigations). In the original study of the Bulgarian relics (of which I was a part) the mitochondrial DNA revealed that the Bulgarian relics were of \"probable Semitic origin.\" Thinking back to my time in the laboratory with the Copenhagen scientists, I recall that the lead investigator estimated that the probability was about 75%. The episode last night stated things a little too sharply when it said that the bones were from a Middle-Eastern man. As for the more specific question about the genetics of Jews and members of the tribe of Levi: Current scientific technology does not reveal this kind of information even if start-up genetic testing companies promise this kind of information. Cyndi Rosenthal: Are there any other historical references of John the Baptist outside of the Bible? Daniel José Camacho: Any extra-biblical sources that shed light on historical figure of John the Baptist? Moss: (These questions are on a similar topic, so I\\'ve chosen to answer them together.) Actually there is external attestation for the life and importance of John the Baptist. This is important because it\\'s fairly rare to find this kind of evidence for ancient figures outside the writings of their followers. The Jewish historian Josephus mentions John the Baptist in his book, \"The Jewish Antiquities.\" Josephus describes John as a \"good man\" who possessed \"virtue\" and had \"great influence\" over the people. According to Josephus, Herod put John the Baptist to death because he was afraid that he might raise a rebellion. This gives us another -- arguably more historical -- perspective on why John was executed and provides further evidence about just how important John was in his own day. Watch the latest full episode anytime on CNNgo . Daniel José Camacho: Wait, how did Jesus get \"Our Father\" prayer from Johnny B??? Didn\\'t catch that. Moss: I\\'m also really glad someone brought this up, because I wondered about it too. In the Gospel of Luke, one of Jesus\\' disciples says, \"Lord, teach us to pray, as John taught his disciples.\" It\\'s an interesting request that tells us something about John the Baptist\\'s ministry and the demanding characters of Jesus\\' disciples! In Luke, Jesus responds to this request by teaching them the Lord\\'s Prayer. We don\\'t know that the Lord\\'s Prayer came from John, and personally I don\\'t think it did; I think this is just how Luke shaped his version of events. But if you were just reading Luke you could come to that conclusion.'],\n",
       " 'highlights': ['Accident happens in Santa Ynez, California, near where Crosby lives .\\nThe jogger suffered multiple fractures; his injuries are not believed to be life-threatening .',\n",
       "  \"Sigma Alpha Epsilon is being tossed out by the University of Oklahoma .\\nIt's also run afoul of officials at Yale, Stanford and Johns Hopkins in recent months .\",\n",
       "  'Religion professor Candida Moss appears in each episode of the program .\\nMoss was part of the original study to determine if relics found in Bulgaria could be the bones of John the Baptist.'],\n",
       " 'id': ['0044e296ecfe3ba57a351ad2a36d034491e878ce',\n",
       "  '00716be72be8cf48cc23ac3b4b8924e569628be2',\n",
       "  '00ac882e1a7f4862fa9f1e863b738966625f554d']}"
      ]
     },
     "execution_count": 49,
     "metadata": {},
     "output_type": "execute_result"
    }
   ],
   "source": [
    "dataset['validation'][:3]"
   ]
  },
  {
   "cell_type": "code",
   "execution_count": 6,
   "id": "reasonable-participation",
   "metadata": {},
   "outputs": [
    {
     "name": "stdout",
     "output_type": "stream",
     "text": [
      "Coral Gables, Florida (CNN)Former President Bill Clinton on Saturday defended his family foundation's practice of taking money from foreign countries, arguing that while he doesn't agree with all of the policies of countries that contributed, he feels the foundation has \"done a lot more good than harm.\" The Clinton Foundation admitted last month that a 2010 donation from the Algerian government was not properly approved under the guidelines the Obama administration put in place with the foundation when Hillary Clinton became secretary of state in 2009. Bill Clinton defended the donations as something that went to worthwhile projects. \"The UAE [United Arab Emirates] gave us money. Do we agree with everything they do? No. But they are helping us fight ISIS and they built a great university with NYU open to people around the world,\" Clinton said at a foundation event in Florida. \"Do I agree with all the foreign policy of Saudi Arabia? No.\" Saudi Arabia, the United Arab Emirates and Oman are among the countries that donated to the Clinton Foundation. Clinton continued: \"You've got to decide when you do this work, whether it will do more good than harm if someone helps you from another country. ... I believe we have done a lot more good than harm.\" The story became a controversy for the Clintons, one where even some Democrats questioned the practice. Hillary Clinton is the party's presidential frontrunner in 2016 and is expected to announce her presidential aspirations next month. Republicans jumped on board the story, too, using it to question the Clintons' ethics and whether, as president, she would give preferential treatment to countries that have donated to the foundation. Democrats that did publicly defend the Clintons noted that the foundation disclosed all of their donation on their website. On Saturday, Clinton did the same. \"My theory about all this is disclose everything. And then let people make their judgments,\" Clinton said. \"I'm going to tell you who gave us money and you can make your own decisions.\" Clinton concluded his defense of the foundation, stating that he thinks organizations should \"bring people together across great divides, around things that they can agree on and find something to do to make peoples lives better.\" The Clinton Foundation was founded by Bill Clinton after he left the presidency in 2001. To date, the foundation has raised over $2 billion that goes toward a wide variety of projects, including health and wellness, economic development and leveling the playing field for women and girls. Many of their projects focus on international issues, such as rebuilding Haiti after the 2010 earthquake and providing access to low-cost HIV and AIDS treatment. Those were primarily the projects backed by foreign countries. The former president's comments were the only moment any Clinton mentioned the foreign fundraising controversy. Neither Hillary or Chelsea Clinton mentioned the issue. At no point Saturday did any of the Clintons address the fact that Hillary Clinton exclusively used a private email account for the four years she served as America's top diplomat, a practice that skirted legal standards in place. The former secretary of state spent 18 minutes on stage Saturday and didn't mention question about her email, instead focusing on the foundation and a new report they will put out on women and girls participation. That didn't bother the over 1,000 overachieving millennials at the Clinton Global Initiative University meeting who couldn't have cared less about the swirling email and fundraising controversies that have defined the Clintons the last few weeks. Saturday's event is the university-focused branch of the Clinton Foundation. It brings philanthropic minded students from around the world together to talk about their projects and pitch the foundation for funding. This year brought together students looking to do a wide variety of things, from increasing women's inclusion in science and math fields to harvesting potable water from fog. In total, the foundation will hand out $900,000 to the different students. The general sense among the event attendees was: \"What controversies?\" \"I am here for me. I am here for learning, exploring, meeting new people and expanding my knowledge about nonprofit management and social change,\" said Armel Arnaud Nibasumba, a Middlebury College student born and raised in Burundi. \"I don't really care if they address those political issues that are going on.\" A few students, including Victoria Arild from Menlo College, said they hadn't heard of the controversies. \"I am here because my college, I had the privilege of them funding me,\" she said, before shrugging off questions about the email issues.\n",
      "\n",
      "Clinton Foundation has taken money from foreign governments .\n",
      "Bill Clinton:  \"I believe we have done a lot more good than harm\"\n"
     ]
    }
   ],
   "source": [
    "idx = 4\n",
    "\n",
    "print(data[idx]['article'])\n",
    "print()\n",
    "print(data[idx]['highlights'])"
   ]
  },
  {
   "cell_type": "code",
   "execution_count": 7,
   "id": "competent-russia",
   "metadata": {},
   "outputs": [],
   "source": [
    "from transformers import BertTokenizerFast\n",
    "\n",
    "tokenizer = BertTokenizerFast.from_pretrained('bert-base-cased')"
   ]
  },
  {
   "cell_type": "code",
   "execution_count": 10,
   "id": "distributed-organic",
   "metadata": {},
   "outputs": [],
   "source": [
    "import sys\n",
    "sys.path.append('/home/shtoshni/Research/long-doc-coref/src')\n",
    "\n",
    "from inference.inference import Inference\n",
    "model_loc = \"/home/shtoshni/Research/long-doc-coref/models/umem_singleton_90K/model.pth\"\n",
    "model = Inference(model_loc)\n",
    "\n"
   ]
  },
  {
   "cell_type": "code",
   "execution_count": 11,
   "id": "polish-contribution",
   "metadata": {},
   "outputs": [],
   "source": [
    "model.model.max_span_width = 10\n",
    "model.model.memory_net.new_ent_score = 0"
   ]
  },
  {
   "cell_type": "code",
   "execution_count": 37,
   "id": "ahead-storage",
   "metadata": {},
   "outputs": [
    {
     "data": {
      "text/plain": [
       "['_',\n",
       " '__class__',\n",
       " '__delattr__',\n",
       " '__dir__',\n",
       " '__doc__',\n",
       " '__eq__',\n",
       " '__format__',\n",
       " '__ge__',\n",
       " '__getattribute__',\n",
       " '__getitem__',\n",
       " '__gt__',\n",
       " '__hash__',\n",
       " '__init__',\n",
       " '__init_subclass__',\n",
       " '__iter__',\n",
       " '__le__',\n",
       " '__len__',\n",
       " '__lt__',\n",
       " '__ne__',\n",
       " '__new__',\n",
       " '__pyx_vtable__',\n",
       " '__reduce__',\n",
       " '__reduce_ex__',\n",
       " '__repr__',\n",
       " '__setattr__',\n",
       " '__sizeof__',\n",
       " '__str__',\n",
       " '__subclasshook__',\n",
       " '_fix_dep_copy',\n",
       " '_vector',\n",
       " '_vector_norm',\n",
       " 'as_doc',\n",
       " 'char_span',\n",
       " 'conjuncts',\n",
       " 'doc',\n",
       " 'end',\n",
       " 'end_char',\n",
       " 'ent_id',\n",
       " 'ent_id_',\n",
       " 'ents',\n",
       " 'get_extension',\n",
       " 'get_lca_matrix',\n",
       " 'has_extension',\n",
       " 'has_vector',\n",
       " 'kb_id',\n",
       " 'kb_id_',\n",
       " 'label',\n",
       " 'label_',\n",
       " 'lefts',\n",
       " 'lemma_',\n",
       " 'n_lefts',\n",
       " 'n_rights',\n",
       " 'noun_chunks',\n",
       " 'orth_',\n",
       " 'remove_extension',\n",
       " 'rights',\n",
       " 'root',\n",
       " 'sent',\n",
       " 'sentiment',\n",
       " 'set_extension',\n",
       " 'similarity',\n",
       " 'start',\n",
       " 'start_char',\n",
       " 'subtree',\n",
       " 'tensor',\n",
       " 'text',\n",
       " 'text_with_ws',\n",
       " 'to_array',\n",
       " 'vector',\n",
       " 'vector_norm',\n",
       " 'vocab']"
      ]
     },
     "execution_count": 37,
     "metadata": {},
     "output_type": "execute_result"
    }
   ],
   "source": [
    "dir(nlp(instance['highlights']).ents[0])"
   ]
  },
  {
   "cell_type": "code",
   "execution_count": 48,
   "id": "first-quality",
   "metadata": {},
   "outputs": [
    {
     "data": {
      "text/plain": [
       "'s"
      ]
     },
     "execution_count": 48,
     "metadata": {},
     "output_type": "execute_result"
    }
   ],
   "source": [
    "nlp(\"October's\").doc[1]"
   ]
  },
  {
   "cell_type": "code",
   "execution_count": 36,
   "id": "grand-saudi",
   "metadata": {},
   "outputs": [
    {
     "data": {
      "text/plain": [
       "['Spokesperson',\n",
       " ':',\n",
       " 'Experts',\n",
       " 'are',\n",
       " 'investigating',\n",
       " 'how',\n",
       " 'the',\n",
       " 'UK',\n",
       " 'military',\n",
       " 'health',\n",
       " 'care',\n",
       " 'worker',\n",
       " 'got',\n",
       " 'Ebola',\n",
       " '.',\n",
       " '\\n',\n",
       " 'It',\n",
       " 'is',\n",
       " 'being',\n",
       " 'decided',\n",
       " 'if',\n",
       " 'the',\n",
       " 'military',\n",
       " 'worker',\n",
       " 'infected',\n",
       " 'in',\n",
       " 'Sierra',\n",
       " 'Leone',\n",
       " 'will',\n",
       " 'return',\n",
       " 'to',\n",
       " 'England',\n",
       " '.',\n",
       " '\\n',\n",
       " 'There',\n",
       " 'have',\n",
       " 'been',\n",
       " 'some',\n",
       " '24,000',\n",
       " 'reported',\n",
       " 'cases',\n",
       " 'and',\n",
       " '10,000',\n",
       " 'deaths',\n",
       " 'in',\n",
       " 'the',\n",
       " 'latest',\n",
       " 'Ebola',\n",
       " 'outbreak',\n",
       " '.']"
      ]
     },
     "execution_count": 36,
     "metadata": {},
     "output_type": "execute_result"
    }
   ],
   "source": [
    "[str(word) for word in nlp(instance['highlights']).doc]"
   ]
  },
  {
   "cell_type": "code",
   "execution_count": 12,
   "id": "entitled-lighting",
   "metadata": {},
   "outputs": [],
   "source": [
    "import spacy \n",
    "nlp = spacy.load('en_core_web_trf')"
   ]
  },
  {
   "cell_type": "code",
   "execution_count": 24,
   "id": "guided-precipitation",
   "metadata": {},
   "outputs": [
    {
     "name": "stdout",
     "output_type": "stream",
     "text": [
      "1 NER output: {'Sigma Alpha Epsilon', 'Yale', 'the University of Oklahoma', 'Stanford', 'Johns Hopkins'}\n",
      "\n",
      "1 Coref output: ['Oklahoma', 'Yale', 'recent months']\n",
      "[((13, 13), 'Oklahoma'), ((24, 31), 'officials at Yale, Stanford and Johns Hopkins'), ((26, 26), 'Yale'), ((26, 31), 'Yale, Stanford and Johns Hopkins'), ((33, 34), 'recent months')]\n",
      "\n",
      "2 NER output: {'Bulgaria'}\n",
      "\n",
      "2 Coref output: ['Bulgaria']\n",
      "[((24, 27), 'relics found in Bulgaria'), ((27, 27), 'Bulgaria'), ((30, 35), 'the bones of John the Baptist')]\n",
      "\n",
      "(CNN)I'm Candida Moss and I am professor of New Testament and Early Christianity at the University of Notre Dame. I was an adviser on the \"True Cross\" episode and served as one of the many on-camera experts in CNN's \"Finding Jesus\" series, which currently airs on Sundays. Viewers were invited to tweet and post their questions on the \"Finding Jesus\" Facebook page during the show. Below are some of the more interesting questions and my answers to them. My apologies to everyone I didn't get to. Feel free to tweet your questions to me directly. Herb Scribner: Can anyone explain to me what the Bible's deal is with 40 days/nights? Moss: It's more an interest in the number 40. In the Hebrew Bible the people of Israel wander in the wilderness for 40 years before they reach the Holy Land. The flood lasts for 40 days and nights; Moses spends 40 days and nights on the mountain; Goliath spends 40 days encouraging the Israelites to challenge him before David steps up; 40 is a common age for people to be when they get married; in the book of Judges it is always 40 years between judges; and David and Solomon each reigned for 40 years. What we can take away from all of this is that people in the ancient world saw 40 as suggesting a full, complete period of time. It's sort of like a narrative stock number, in the way that modern jokes follow the rule of three. Yalanda M. Price: Was there any division between the followers of Jesus and the followers of John the Baptist? Moss: One of the interesting things about the relationship between Jesus and John the Baptist is that John doesn't lay down his tools and follow Jesus after he baptizes him. Nor, it seems, did John's disciples. They had separate ministries and, while there may have been contact between the two groups, they were also de facto competitors in the ancient religious marketplace. There are some hints in the New Testament that Jesus and his followers had to differentiate themselves from John by stating that Jesus' baptism was better (Acts 11:6) and countering the idea that Jesus was actually John raised from the dead (Matthew 14:2) Some scholars argue that these references are evidence of tension between followers of Jesus and followers of John. Mark Goodacre answers your questions about the Shroud of Turin. Jeffery Graff: Can the DNA tests on the bones indicate whether he is a Jew or even whether he is of the tribe of Levi? Moss: I'm so glad someone brought up DNA. The DNA tests on the Bulgarian bones yielded only mitochondrial DNA (DNA passed down by the mother), not the more reliable nuclear DNA (the kind of DNA referred to in forensic investigations). In the original study of the Bulgarian relics (of which I was a part) the mitochondrial DNA revealed that the Bulgarian relics were of \"probable Semitic origin.\" Thinking back to my time in the laboratory with the Copenhagen scientists, I recall that the lead investigator estimated that the probability was about 75%. The episode last night stated things a little too sharply when it said that the bones were from a Middle-Eastern man. As for the more specific question about the genetics of Jews and members of the tribe of Levi: Current scientific technology does not reveal this kind of information even if start-up genetic testing companies promise this kind of information. Cyndi Rosenthal: Are there any other historical references of John the Baptist outside of the Bible? Daniel José Camacho: Any extra-biblical sources that shed light on historical figure of John the Baptist? Moss: (These questions are on a similar topic, so I've chosen to answer them together.) Actually there is external attestation for the life and importance of John the Baptist. This is important because it's fairly rare to find this kind of evidence for ancient figures outside the writings of their followers. The Jewish historian Josephus mentions John the Baptist in his book, \"The Jewish Antiquities.\" Josephus describes John as a \"good man\" who possessed \"virtue\" and had \"great influence\" over the people. According to Josephus, Herod put John the Baptist to death because he was afraid that he might raise a rebellion. This gives us another -- arguably more historical -- perspective on why John was executed and provides further evidence about just how important John was in his own day. Watch the latest full episode anytime on CNNgo . Daniel José Camacho: Wait, how did Jesus get \"Our Father\" prayer from Johnny B??? Didn't catch that. Moss: I'm also really glad someone brought this up, because I wondered about it too. In the Gospel of Luke, one of Jesus' disciples says, \"Lord, teach us to pray, as John taught his disciples.\" It's an interesting request that tells us something about John the Baptist's ministry and the demanding characters of Jesus' disciples! In Luke, Jesus responds to this request by teaching them the Lord's Prayer. We don't know that the Lord's Prayer came from John, and personally I don't think it did; I think this is just how Luke shaped his version of events. But if you were just reading Luke you could come to that conclusion.\n",
      "\n",
      "Religion professor Candida Moss appears in each episode of the program .\n",
      "Moss was part of the original study to determine if relics found in Bulgaria could be the bones of John the Baptist.\n",
      "\n",
      "3 NER output: {'Michael Shank', 'Hank Johnson', 'Two'}\n",
      "\n",
      "3 Coref output: ['shot', 'Hank Johnson', 'Michael Shank']\n",
      "[((9, 10), 'Hank Johnson'), ((12, 14), 'Michael Shank')]\n",
      "\n",
      "4 NER output: {'Clinton Foundation'}\n",
      "\n",
      "5 Coref output: ['@ lauriesegallcnn']\n",
      "[((54, 57), 'the conversation on Twitter')]\n",
      "\n",
      "6 NER output: {'John Mein'}\n",
      "\n",
      "6 Coref output: ['then - Ambassadors Christopher Stevens', 'Francis Meloy']\n",
      "[((15, 20), 'then - Ambassadors Christopher Stevens'), ((26, 28), 'Francis Meloy')]\n",
      "\n",
      "(CNN)Diplomacy can be dangerous. U.S. diplomats have come under attack in various places in the last few decades. Here's a look at U.S. diplomats who have been killed in the line of duty. The first U.S. ambassador assassinated while in office was John Gordon Mein, the U.S. ambassador to Guatemala. According to a telegram from the embassy in Guatemala City, a young man dressed in fatigues and carrying a sub-machine gun on  August 28, 1968, ordered Mein's vehicle to stop and for the ambassador to get out. He did, then ran -- prompting a cry of \"Shoot him, kill him.\" Mein was shot and fell to the ground about 12 yards behind his limousine. Cleo Noel Jr., the U.S. ambassador to Sudan, was nearing the end of a March 1973 reception in the Saudi Embassy in Khartoum when terrorists stormed in. The gunmen took Noel and another American, as well as diplomats from Saudi Arabia, Belgium and Jordan, according to a U.S. intelligence memo. The captors' demand: Free various people, mostly Palestinian guerillas, then imprisoned in Jordan, Israel and the United States. This spurred negotiations that didn't go anywhere, ending instead with the killing of Noel, fellow U.S. diplomat George Curtis Moore and Belgium's Charge d'Affaires. U.S. authorities say the assailants belonged to the Palestinian terrorist movement known as \"Black September,\" claiming that Palestinian leader Yasser Arafat signed off on the attack. Ambassador Rodger Davies, who had been in Cyprus for less than months, hunkered down in a hallway on August 19, 1974, hoping he was safe from those involved in a nearby demonstration. Instead, a bullet penetrated the embassy compound and struck his heart, killing him instantly. Antoinette Varnava, a 31-year-old local who was part of the small embassy staff for about a decade, also died in the violence. U.S. ambassador to Lebanon Francis Meloy, his economic counselor Robert O. Waring and their Lebanese driver disappeared in June 1976 as they crossed the Green Line, the division between Beirut's Christian and Muslim sectors. Their bullet-riddled bodies were found a short time later in mainly Muslim west Beirut, which was then controlled by PLO Chairman Yasser Arafat's guerrillas. Two former Muslim guerillas were convicted in the kidnapping and killings, only to be freed in 1996. About eight months after President Jimmy Carter appointed him as U.S. ambassador to Afghanistan, Adolph Dubs was taken from his car while heading home from the embassy. His captors took the Foreign Service veteran to the Hotel Kabul, where Dubs died in a shootout between captors and Afghan police -- a violent death that, whomever fired the fatal bullets, the U.S. State Department considers an assassination. A former eight-story hotel facing the sea transformed into America's embassy in Beirut turned into a war zone in April 1983, when a truck loaded with explosives was rammed into its entrance. The result was horrific. Offices were pancaked on top of each other, the elevator shaft and stairwell destroyed, the cafeteria full of bodies and rubble, recalled the then U.S. ambassador Robert Dillon, who himself was dug out of the rubble. While 44 people inside the embassy survived the blast, 17 Americans, 25 Foreign Service nationals, 10 contract workers and 10 visa applicants and passerby did not. In 2008, Dillon said the attack was believed to have been carried out by a family \"under the direction of members of Iran's Revolutionary Guards.\" On August 7, 1998 -- around the exact same time a bomb went off at the U.S. Embassy in Dar es Salaam, Tanzania, killing 11 -- a huge explosion tore through the U.S. Embassy in Nairobi, Kenya. The American Foreign Service Association (AFSA) lists eight people as having died in the attack on its memorial remembering Americans who died while serving the U.S. government abroad in a foreign affairs capacity.  Twelve Americans total were killed. Those are both jarring numbers, but they're still a fraction of the more than 200 people total killed in the attack, in addition to more than 4,000 wounded. In May 2001, a U.S. jury found four purported al Qaeda members guilty on all charges stemming from the embassy bombings in Kenya and Tanzania. As his wife of 34 years looked on, Laurence Foley was shot dead outside his home in Amman, Jordan, by a lone gunman in December 2002. A public servant for close to 40 years, the Boston-born Foley was serving as executive officer of the USAID mission in Amman at the time. U.S. officials were quick to label Foley's killing a murder, with the head of the AFSA calling it a \"brutal terrorist attack.\" They later implicated Iraqi-based terrorist leader Abu Musab al-Zarqawi for providing \"financial and other support to the terrorists who assassinated\" Foley. Exactly 11 years after the September 11 attacks in New York, Washington and rural Pennsylvania, terrorists struck at Americans again -- this time some 5,000 miles away in the Libyan city of Benghazi. That's where Ambassador Christopher Stevens was when mortar and rocket fire struck a U.S. diplomatic annex there. Stevens didn't survive, nor did State Department computer expert Sean Smith or Tyrone Woods and Glen Doherty, two former U.S. Navy SEALs then acting as security contractors. The attack was first portrayed as violence by an angry mob responding to a video made in the U.S. that mocked Islam and the Prophet Mohammed. But officials later determined that it was a terrorist attack. Anne Smedinghoff, a 25-year-old public diplomacy officer at the U.S. Embassy in Kabul, was delivering books to a school in southern Afghanistan when a suicide bomber smashed into her convoy. She died in that April 2013 attack, as did four others. \"We thought she was relatively safe in the embassy compound,\" her father Tom Smedinghoff told CNN. \"But as it turned out, Anne really wanted to do a lot more.\"\n",
      "\n",
      "Several U.S. diplomats have died after being attacked .\n",
      "They include then-Ambassadors Christopher Stevens, John Mein and Francis Meloy .\n",
      "\n"
     ]
    },
    {
     "name": "stdout",
     "output_type": "stream",
     "text": [
      "7 Coref output: ['the death penalty', 'said']\n",
      "[]\n",
      "\n",
      "(CNN)Debra Milke spent 22 years on death row, convicted of conspiring with two other men to kill her son allegedly for an insurance payout. On Monday, a judge ruled that the Arizona woman is innocent and dismissed all charges against her. This makes Milke only the second woman exonerated from death row in the United States. More importantly, the judge's decision finally clears Milke after years of legal back-and-forth in a case where she steadfastly maintained her innocence. Key to the case's dismissal was prosecutorial misconduct, mainly that of a detective, Armando Saldate, who said Milke confessed to the crime to him -- even though there was no witness or recording. Prosecutors withheld from the jury Saldate's personnel record which showed instances of misconduct in other cases, including lying under oath. The two men with whom Milke was accused of conspiring were tried separately and are still on death row. A day after seeing Santa Claus at a mall on December 1, 1989, young Christopher Milke asked his mother if he could go again. Milke's roomate, James Styers, took the boy; then called Milke saying Christopher had disappeared. Instead, Styers and a friend drove the boy out of town to a secluded ravine where Styers shot Christopher three times in the head, prosecutors said. Styers and the friend were convicted of murder and sentenced to death. Milke was implicated based on alleged testimony from Styer's friend, Roger Scott. The detective, Saldate, said Scott told him that Milke was involved in a plot to kill her son. And during her trial, prosecutors floated a likely motive: A $5,000 life insurance policy she had taken out on the child. But neither Scott nor Styers testified to a plot in court. No other witnesses or direct evidence linked Milke to the crime other than Saldate's testimony. Saldate further said that Milke confessed to her role in the murder plot during interrogation and said it was a \"bad judgment call.\" There was no recording of the interrogation, no one else was in the room or watching from a two-way mirror, and Saldate said he threw away his notes shortly after completing his report. Milke offered a vastly different view of the interrogation and denied that she had confessed to any role. The trial became a he-said/she-said contest between the two. Ultimately, the jury believed the detective and convicted Milke of murder. What prosecutors didn't tell the court was the detective's long history of lying under oath and misconduct. Saldate had been suspended five days for taking \"liberties\" with a female motorist and lying about it to his supervisors. Four confessions or indictments had been tossed out because Saldate had lied under oath. Judges suppressed or vacated four other confessions because Saldate had violated a person's constitutional rights. In 2013, after more than 20 years in jail, an appeals court overturned Milke's conviction. \"The Constitution requires a fair trial,\" Chief Judge Alex Kozinski of the federal 9th Circuit Court of Appeals wrote. \"This never happened in Milke's case.\" \"The state knew of the evidence in the personnel file and had an obligation to produce the documents,\" Kozinski said. \"... There can be no doubt that the state failed in its constitutional obligation.\" Milke was released on bail, and the court said she couldn't be tried again. The state appealed the decision to the Arizona Supreme Court. Last week, the Arizona Supreme Court refused to hear the appeal. And on Monday, all charges against Milke were finally dropped. The ankle bracelet she had been wearing while on bail was removed. And Milke left the court room, sobbing in relief. The case is now closed. Debra Milke is finally a free woman.\n",
      "\n",
      "Debra Milke was convicted of murder in her son's death, given the death penalty .\n",
      "There was no evidence tying her to the crime, but a detective said she confessed .\n",
      "This detective had a \"history of misconduct,\" including lying under oath .\n",
      "\n",
      "8 NER output: {'England', '10,000', '24,000'}\n",
      "\n",
      "8 Coref output: ['England']\n",
      "[((37, 37), 'England'), ((54, 59), 'the latest Ebola outbreak')]\n",
      "\n"
     ]
    }
   ],
   "source": [
    "for idx, instance in enumerate(dataset['validation']):\n",
    "    summary = instance['highlights']\n",
    "    document = instance['article']\n",
    "    output_dict = model.perform_coreference([instance['highlights'], instance['article']])\n",
    "    \n",
    "    summary_len = output_dict['tokenized_doc']['part_lens'][0]\n",
    "    \n",
    "    summary_ents = nlp(instance['highlights']).ents\n",
    "    summary_ents = set([str(ent) for ent in summary_ents])\n",
    "    \n",
    "    \n",
    "    doc_ents = nlp(instance['article']).ents\n",
    "    doc_ents = set([str(ent) for ent in doc_ents])\n",
    "    \n",
    "    ent_diff = summary_ents.difference(doc_ents)\n",
    "    \n",
    "    if len(ent_diff):\n",
    "        print(f\"{idx} NER output:\", ent_diff)\n",
    "#         print(summary_ents)\n",
    "        print()\n",
    "    \n",
    "   # Only keep capitalized singletons\n",
    "    found_ner_singleton = False\n",
    "    \n",
    "    \n",
    "    singletons = [cluster[0] for cluster in output_dict['clusters'] \n",
    "                  if len(cluster) == 1 and cluster[0][0][0] < summary_len ]\n",
    "    \n",
    "    ner_singletons = []\n",
    "    for singleton in singletons:        \n",
    "        if singleton[1] == 'It':\n",
    "            continue\n",
    "#         ner_singletons.append(singleton)  \n",
    "        singleton_added = False\n",
    "        words = singleton[1].split()\n",
    "        for word in words:\n",
    "            if word[0].isupper():\n",
    "                ner_singletons.append(singleton)\n",
    "                singleton_added = True\n",
    "                break\n",
    "                \n",
    "        if (singleton[1] in summary_ents) and (not singleton_added):\n",
    "            ner_singletons.append(singleton)\n",
    "    \n",
    "    # Also check that the mention is not a super mention of a smaller mention\n",
    "    mentions = output_dict['mentions']\n",
    "    filtered_singletons = []\n",
    "    for singleton in singletons:\n",
    "        singleton_start, singleton_end = singleton[0]\n",
    "        \n",
    "        super_string = False\n",
    "        for ment_start, ment_end in mentions:\n",
    "            if singleton_start <= ment_start and singleton_end >= ment_end:\n",
    "                # Check it's not the same mention\n",
    "                if singleton_start == ment_start and singleton_end == ment_end:\n",
    "                    continue\n",
    "                else:\n",
    "                    super_string = True\n",
    "                    break\n",
    "                    \n",
    "        if not super_string:\n",
    "            filtered_singletons.append(singleton[1])        \n",
    "    \n",
    "                \n",
    "    if len(filtered_singletons):\n",
    "        print(f\"{idx} Coref output:\", filtered_singletons)\n",
    "        print(ner_singletons)\n",
    "#         print(output_dict['clusters'] )\n",
    "        print()\n",
    "        \n",
    "    \n",
    "    if idx >= 8:\n",
    "        break\n",
    "        \n",
    "    if idx >= 6 or idx == 2:\n",
    "        print(instance['article'])\n",
    "        print()\n",
    "        print(instance['highlights'])\n",
    "        print()\n",
    "        \n",
    "    "
   ]
  },
  {
   "cell_type": "code",
   "execution_count": 23,
   "id": "streaming-cedar",
   "metadata": {},
   "outputs": [
    {
     "data": {
      "text/plain": [
       "Spokesperson: Experts are investigating how the UK military health care worker got Ebola .\n",
       "It is being decided if the military worker infected in Sierra Leone will return to England .\n",
       "There have been some 24,000 reported cases and 10,000 deaths in the latest Ebola outbreak ."
      ]
     },
     "execution_count": 23,
     "metadata": {},
     "output_type": "execute_result"
    }
   ],
   "source": [
    "summary_ents = nlp(instance['highlights']).ents\n",
    "summary_ents[0].doc"
   ]
  },
  {
   "cell_type": "code",
   "execution_count": null,
   "id": "joined-evanescence",
   "metadata": {},
   "outputs": [],
   "source": []
  },
  {
   "cell_type": "code",
   "execution_count": null,
   "id": "derived-trinidad",
   "metadata": {},
   "outputs": [],
   "source": [
    "# for idx, instance in enumerate(dataset['validation']):\n",
    "#     output_dict = model.perform_coreference([instance['article'], instance['highlights']])\n",
    "#     article_len = output_dict['tokenized_doc']['part_lens'][0]\n",
    "    \n",
    "#     summary_ents = nlp(instance['highlights']).ents\n",
    "#     summary_ents = set([str(ent) for ent in summary_ents])\n",
    "    \n",
    "#     doc_ents = nlp(instance['article']).ents\n",
    "#     doc_ents = set([str(ent) for ent in doc_ents])\n",
    "    \n",
    "#     ent_diff = summary_ents.difference(doc_ents)\n",
    "#     if len(ent_diff):\n",
    "#         print(f\"{idx} NER output:\", ent_diff)\n",
    "# #         print(summary_ents)\n",
    "#         print()\n",
    "    \n",
    "# #     print(output_dict['tokenized_doc']['part_lens'])\n",
    "# #     print(instance['article'])\n",
    "    \n",
    "#     singletons = [cluster[0] for cluster in output_dict['clusters'] \n",
    "#                   if len(cluster) == 1 and cluster[0][0][0] >= article_len]\n",
    "    \n",
    "# #     if len(singletons):\n",
    "# #         print(singletons)\n",
    "# #         print()\n",
    "\n",
    "# #     print(output_dict['clusters'])\n",
    "# #     print()\n",
    "\n",
    "#     # Only keep capitalized singletons\n",
    "#     found_ner_singleton = False\n",
    "    \n",
    "#     ner_singletons = []\n",
    "#     for singleton in singletons:        \n",
    "#         if singleton[1] == 'It':\n",
    "#             continue\n",
    "#         ner_singletons.append(singleton)  \n",
    "# #         singleton_added = False\n",
    "# #         words = singleton[1].split()\n",
    "# #         for word in words:\n",
    "# #             if word[0].isupper():\n",
    "# #                 ner_singletons.append(singleton)\n",
    "# #                 singleton_added = True\n",
    "# #                 break\n",
    "                \n",
    "# #         if (singleton[1] in summary_ents) and (not singleton_added):\n",
    "# #             ner_singletons.append(singleton)\n",
    "    \n",
    "    \n",
    "#     # Also check that the mention is not a super mention of a smaller mention\n",
    "#     mentions = output_dict['mentions']\n",
    "#     filtered_singletons = []\n",
    "#     for singleton in ner_singletons:\n",
    "#         singleton_start, singleton_end = singleton[0]\n",
    "        \n",
    "#         super_string = False\n",
    "#         for ment_start, ment_end in mentions:\n",
    "#             if singleton_start <= ment_start and singleton_end >= ment_end:\n",
    "#                 # Check it's not the same mention\n",
    "#                 if singleton_start == ment_start and singleton_end == ment_end:\n",
    "#                     continue\n",
    "#                 else:\n",
    "#                     super_string = True\n",
    "#                     break\n",
    "                    \n",
    "#         if not super_string:\n",
    "#             filtered_singletons.append(singleton[1])        \n",
    "    \n",
    "                \n",
    "#     if len(filtered_singletons):\n",
    "#         print(f\"{idx} Coref output:\", filtered_singletons)\n",
    "#         print(ner_singletons)\n",
    "# #         print(output_dict['clusters'] )\n",
    "#         print()\n",
    "        \n",
    "    \n",
    "#     if idx >= 8:\n",
    "#         break\n",
    "        \n",
    "#     if idx >= 6:\n",
    "#         print(instance['article'])\n",
    "#         print()\n",
    "#         print(instance['highlights'])\n",
    "#         print()\n",
    "        \n",
    "    \n",
    "    \n",
    "    "
   ]
  }
 ],
 "metadata": {
  "kernelspec": {
   "display_name": "Python [conda env:rap_nlp] *",
   "language": "python",
   "name": "conda-env-rap_nlp-py"
  },
  "language_info": {
   "codemirror_mode": {
    "name": "ipython",
    "version": 3
   },
   "file_extension": ".py",
   "mimetype": "text/x-python",
   "name": "python",
   "nbconvert_exporter": "python",
   "pygments_lexer": "ipython3",
   "version": "3.8.5"
  }
 },
 "nbformat": 4,
 "nbformat_minor": 5
}
