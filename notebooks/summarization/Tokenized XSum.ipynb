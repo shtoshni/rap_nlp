{
 "cells": [
  {
   "cell_type": "code",
   "execution_count": 23,
   "metadata": {},
   "outputs": [],
   "source": [
    "import json\n",
    "from os import path\n",
    "import matplotlib.pyplot as plt "
   ]
  },
  {
   "cell_type": "code",
   "execution_count": 24,
   "metadata": {},
   "outputs": [],
   "source": [
    "from transformers import BartTokenizerFast\n",
    "\n",
    "tokenizer = BartTokenizerFast.from_pretrained('sshleifer/distilbart-xsum-12-6')"
   ]
  },
  {
   "cell_type": "code",
   "execution_count": 25,
   "metadata": {},
   "outputs": [],
   "source": [
    "data_dir = \"/home/shtoshni/Research/rap_nlp/data/summarization/xsum_proc\"\n",
    "# split_file = path.join(data_dir, \"validation.jsonlines\")\n",
    "split_file = path.join(data_dir, \"xsum_train_0_max_5000.jsonlines\")"
   ]
  },
  {
   "cell_type": "code",
   "execution_count": 26,
   "metadata": {},
   "outputs": [],
   "source": [
    "data = []\n",
    "instance_len = []\n",
    "with open(split_file) as f:\n",
    "    for line in f:\n",
    "        instance = json.loads(line.strip())\n",
    "        data.append(instance)\n",
    "        doc_ids = []\n",
    "        for sentence in instance[\"sentences\"]:\n",
    "            doc_ids.extend(sentence)\n",
    "        instance_len.append(len(doc_ids))"
   ]
  },
  {
   "cell_type": "code",
   "execution_count": 27,
   "metadata": {},
   "outputs": [
    {
     "data": {
      "text/plain": [
       "(array([4.998e+03, 1.000e+00, 0.000e+00, 0.000e+00, 0.000e+00, 0.000e+00,\n",
       "        0.000e+00, 0.000e+00, 0.000e+00, 1.000e+00]),\n",
       " array([1.00000e+01, 3.52270e+03, 7.03540e+03, 1.05481e+04, 1.40608e+04,\n",
       "        1.75735e+04, 2.10862e+04, 2.45989e+04, 2.81116e+04, 3.16243e+04,\n",
       "        3.51370e+04]),\n",
       " <BarContainer object of 10 artists>)"
      ]
     },
     "execution_count": 27,
     "metadata": {},
     "output_type": "execute_result"
    },
    {
     "data": {
      "image/png": "[encoded data removed]",
      "text/plain": [
       "<Figure size 432x288 with 1 Axes>"
      ]
     },
     "metadata": {
      "needs_background": "light"
     },
     "output_type": "display_data"
    }
   ],
   "source": [
    "plt.hist(instance_len)"
   ]
  },
  {
   "cell_type": "code",
   "execution_count": 28,
   "metadata": {},
   "outputs": [
    {
     "name": "stdout",
     "output_type": "stream",
     "text": [
      "498.4476\n",
      "35137\n",
      "394.0\n",
      "10\n"
     ]
    }
   ],
   "source": [
    "import numpy as np\n",
    "np_array = np.array(instance_len)\n",
    "print(np.mean(np_array))\n",
    "print(np.max(np_array))\n",
    "print(np.median(np_array))\n",
    "print(np.min(np_array))\n"
   ]
  },
  {
   "cell_type": "code",
   "execution_count": 33,
   "metadata": {},
   "outputs": [
    {
     "name": "stdout",
     "output_type": "stream",
     "text": [
      "[41, 781]\n",
      " New Welsh Rugby Union chairman Gareth Davies believes a joint £3.3m WRU-regions fund should be used to retain home-based talent such as Liam Williams, not bring back exiled stars.\n"
     ]
    }
   ],
   "source": [
    "instance = data[0]\n",
    "print(instance[\"part_lens\"])\n",
    "doc_ids = []\n",
    "for sentence in instance[\"sentences\"]:\n",
    "    doc_ids.extend(sentence)\n",
    "    \n",
    "print(tokenizer.convert_tokens_to_string(tokenizer.convert_ids_to_tokens(doc_ids[:instance[\"part_lens\"][0]])))"
   ]
  },
  {
   "cell_type": "code",
   "execution_count": 34,
   "metadata": {},
   "outputs": [
    {
     "name": "stdout",
     "output_type": "stream",
     "text": [
      " Recent reports have linked some France-based players with returns to Wales. \"I've always felt - and this is with my rugby hat on now; this is not region or WRU - I'd rather spend that money on keeping players in Wales,\" said Davies. The WRU provides £2m to the fund and £1.3m comes from the regions. Former Wales and British and Irish Lions fly-half Davies became WRU chairman on Tuesday 21 October, succeeding deposed David Pickering following governing body elections. He is now serving a notice period to leave his role as Newport Gwent Dragons chief executive after being voted on to the WRU board in September. Davies was among the leading figures among Dragons, Ospreys, Scarlets and Cardiff Blues officials who were embroiled in a protracted dispute with the WRU that ended in a £60m deal in August this year. In the wake of that deal being done, Davies said the £3.3m should be spent on ensuring current Wales-based stars remain there. In recent weeks, Racing Metro flanker Dan Lydiate was linked with returning to Wales. Likewise the Paris club's scrum-half Mike Phillips and centre Jamie Roberts were also touted for possible returns. Wales coach Warren Gatland has said: \"We haven't instigated contact with the players. \"But we are aware that one or two of them are keen to return to Wales sooner rather than later.\" Speaking to Scrum V on BBC Radio Wales, Davies re-iterated his stance, saying keeping players such as Scarlets full-back Liam Williams and Ospreys flanker Justin Tipuric in Wales should take precedence. \"It's obviously a limited amount of money [available]. The union are contributing 60% of that contract and the regions are putting £1.3m in. \"So it's a total pot of just over £3m and if you look at the sorts of salaries that the... guys... have been tempted to go overseas for [are] significant amounts of money. \"So if we were to bring the players back, we'd probably get five or six players. \"And I've always felt - and this is with my rugby hat on now; this is not region or WRU - I'd rather spend that money on keeping players in Wales. \"There are players coming out of contract, perhaps in the next year or so… you're looking at your Liam Williams' of the world; Justin Tipuric for example - we need to keep these guys in Wales. \"We actually want them there. They are the ones who are going to impress the young kids, for example. \"They are the sort of heroes that our young kids want to emulate. \"So I would start off [by saying] with the limited pot of money, we have to retain players in Wales. \"Now, if that can be done and there's some spare monies available at the end, yes, let's look to bring players back. \"But it's a cruel world, isn't it? \"It's fine to take the buck and go, but great if you can get them back as well, provided there's enough money.\" British and Irish Lions centre Roberts has insisted he will see out his Racing Metro contract. He and Phillips also earlier dismissed the idea of leaving Paris. Roberts also admitted being hurt by comments in French Newspaper L'Equipe attributed to Racing Coach Laurent Labit questioning their effectiveness. Centre Roberts and flanker Lydiate joined Racing ahead of the 2013-14 season while scrum-half Phillips moved there in December 2013 after being dismissed for disciplinary reasons by former club Bayonne.\n"
     ]
    }
   ],
   "source": [
    "print(tokenizer.convert_tokens_to_string(tokenizer.convert_ids_to_tokens(doc_ids[instance[\"part_lens\"][0]:])))"
   ]
  },
  {
   "cell_type": "code",
   "execution_count": 40,
   "metadata": {},
   "outputs": [
    {
     "data": {
      "text/plain": [
       "[[[[0, 6], ' New Welsh Rugby Union chairman Gareth Davies'],\n",
       "  [[56, 56], 'I'],\n",
       "  [[65, 65], ' my'],\n",
       "  [[79, 79], ' I'],\n",
       "  [[92, 92], ' Davies'],\n",
       "  [[146, 146], ' He'],\n",
       "  [[155, 155], ' his'],\n",
       "  [[176, 176], ' Davies'],\n",
       "  [[228, 228], ' Davies'],\n",
       "  [[341, 341], ' Davies'],\n",
       "  [[346, 346], ' his'],\n",
       "  [[474, 474], ' I'],\n",
       "  [[483, 483], ' my'],\n",
       "  [[497, 497], ' I'],\n",
       "  [[594, 594], ' I'],\n",
       "  [[687, 692], ' British and Irish Lions centre Roberts'],\n",
       "  [[695, 695], ' he'],\n",
       "  [[699, 699], ' his'],\n",
       "  [[704, 704], ' He'],\n",
       "  [[716, 716], ' Roberts'],\n",
       "  [[741, 742], ' Centre Roberts']],\n",
       " [[[1, 3], ' Welsh Rugby Union'],\n",
       "  [[15, 16], ' WRU'],\n",
       "  [[76, 77], ' WRU'],\n",
       "  [[92, 96], ' Davies. The WRU'],\n",
       "  [[94, 96], ' The WRU'],\n",
       "  [[127, 128], ' WRU'],\n",
       "  [[170, 171], ' WRU'],\n",
       "  [[203, 205], ' the WRU'],\n",
       "  [[389, 390], ' The union']],\n",
       " [[[32, 33], ' Liam Williams'], [[538, 541], ' Justin Tipuric']],\n",
       " [[[53, 53], ' Wales'],\n",
       "  [[89, 89], ' Wales'],\n",
       "  [[116, 116], ' Wales'],\n",
       "  [[242, 242], ' Wales'],\n",
       "  [[266, 266], ' Wales'],\n",
       "  [[290, 290], ' Wales'],\n",
       "  [[299, 299], 'We'],\n",
       "  [[311, 311], ' we'],\n",
       "  [[325, 325], ' Wales'],\n",
       "  [[372, 372], ' Wales'],\n",
       "  [[507, 507], ' Wales'],\n",
       "  [[552, 552], ' Wales'],\n",
       "  [[615, 615], ' Wales']],\n",
       " [[[83, 84], ' that money'],\n",
       "  [[102, 103], ' the fund'],\n",
       "  [[230, 235], ' the £3.3m'],\n",
       "  [[378, 378], 'It'],\n",
       "  [[412, 412], ' it'],\n",
       "  [[501, 502], ' that money'],\n",
       "  [[603, 607], ' the limited pot of money']],\n",
       " [[[158, 161], ' Newport Gwent Dragons'], [[183, 183], ' Dragons']],\n",
       " [[[185, 187], ' Ospreys'], [[362, 364], ' Ospreys']],\n",
       " [[[189, 190], ' Scarlets'], [[354, 355], ' Scarlets']],\n",
       " [[[209, 213], ' a £60m deal'],\n",
       "  [[223, 224], ' that deal'],\n",
       "  [[396, 397], ' that contract']],\n",
       " [[[253, 254], ' Racing Metro'],\n",
       "  [[269, 272], \" the Paris club's\"],\n",
       "  [[700, 701], ' Racing Metro'],\n",
       "  [[732, 732], ' Racing'],\n",
       "  [[750, 750], ' Racing']],\n",
       " [[[306, 307], ' the players'],\n",
       "  [[319, 319], ' them'],\n",
       "  [[459, 460], ' the players']],\n",
       " [[[354, 360], ' Scarlets full-back Liam Williams']],\n",
       " [[[455, 455], ' we'],\n",
       "  [[463, 463], ' we'],\n",
       "  [[545, 545], ' we'],\n",
       "  [[555, 555], 'We'],\n",
       "  [[585, 585], ' our'],\n",
       "  [[609, 609], ' we'],\n",
       "  [[640, 640], \"'s\"]],\n",
       " [[[549, 550], ' these guys'],\n",
       "  [[558, 558], ' them'],\n",
       "  [[561, 561], ' They'],\n",
       "  [[578, 578], 'They']],\n",
       " [[[570, 572], ' the young kids'], [[585, 587], ' our young kids']],\n",
       " [[[612, 612], ' retain'], [[621, 621], ' that']],\n",
       " [[[644, 644], ' players'], [[657, 657], ' it'], [[676, 676], ' them']],\n",
       " [[[704, 706], ' He and Phillips'], [[738, 738], ' their']],\n",
       " [[[706, 706], ' Phillips'], [[759, 763], ' scrum-half Phillips']]]"
      ]
     },
     "execution_count": 40,
     "metadata": {},
     "output_type": "execute_result"
    }
   ],
   "source": [
    "instance[\"coref_clusters\"]"
   ]
  }
 ],
 "metadata": {
  "kernelspec": {
   "display_name": "Python [conda env:rap_nlp] *",
   "language": "python",
   "name": "conda-env-rap_nlp-py"
  },
  "language_info": {
   "codemirror_mode": {
    "name": "ipython",
    "version": 3
   },
   "file_extension": ".py",
   "mimetype": "text/x-python",
   "name": "python",
   "nbconvert_exporter": "python",
   "pygments_lexer": "ipython3",
   "version": "3.8.5"
  }
 },
 "nbformat": 4,
 "nbformat_minor": 4
}
