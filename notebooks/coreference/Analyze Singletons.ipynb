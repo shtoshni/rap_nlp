{
 "cells": [
  {
   "cell_type": "code",
   "execution_count": 42,
   "id": "saved-principle",
   "metadata": {},
   "outputs": [],
   "source": [
    "import json\n",
    "import os \n",
    "from os import path\n",
    "import glob\n",
    "import numpy as np"
   ]
  },
  {
   "cell_type": "code",
   "execution_count": 43,
   "id": "molecular-progress",
   "metadata": {},
   "outputs": [],
   "source": [
    "input_dir = \"/home/shtoshni/Research/litbank_coref/data/ontonotes/overlap_singletons_2\"\n",
    "input_files = glob.glob(path.join(input_dir, \"*.jsonlines\"))"
   ]
  },
  {
   "cell_type": "code",
   "execution_count": 44,
   "id": "successful-houston",
   "metadata": {},
   "outputs": [
    {
     "name": "stdout",
     "output_type": "stream",
     "text": [
      "/home/shtoshni/Research/litbank_coref/data/ontonotes/overlap_singletons_2/test.512.jsonlines\n",
      "# of singleton clusters/mentions:  4602\n",
      "# of non-singleton clusters: 4532 & mentions: 19764\n",
      "Average mention lens - Singleton: 3.03, Non-Singleton: 1.65\n",
      "Singleton mentions as a %age of non-singleton mentions: 23.28\n",
      "\n",
      "/home/shtoshni/Research/litbank_coref/data/ontonotes/overlap_singletons_2/dev.512.jsonlines\n",
      "# of singleton clusters/mentions:  4803\n",
      "# of non-singleton clusters: 4545 & mentions: 19155\n",
      "Average mention lens - Singleton: 3.06, Non-Singleton: 1.79\n",
      "Singleton mentions as a %age of non-singleton mentions: 25.07\n",
      "\n",
      "/home/shtoshni/Research/litbank_coref/data/ontonotes/overlap_singletons_2/train.512.jsonlines\n",
      "# of singleton clusters/mentions:  32999\n",
      "# of non-singleton clusters: 35142 & mentions: 155558\n",
      "Average mention lens - Singleton: 2.97, Non-Singleton: 1.68\n",
      "Singleton mentions as a %age of non-singleton mentions: 21.21\n",
      "\n"
     ]
    }
   ],
   "source": [
    "def get_mention_lens(cluster):\n",
    "    return [ment_end - ment_start for ment_start, ment_end in cluster]\n",
    "        \n",
    "\n",
    "for input_file in input_files:\n",
    "    non_singleton_cluster_count = 0\n",
    "    singleton_cluster_count = 0\n",
    "    \n",
    "    singleton_ment_count = 0\n",
    "    non_singleton_ment_count = 0\n",
    "    \n",
    "    singleton_ment_lens = []\n",
    "    non_singleton_ment_lens = []\n",
    "    \n",
    "    \n",
    "    with open(input_file) as f:\n",
    "        for line in f:\n",
    "            instance = json.loads(line.strip())\n",
    "            for cluster in instance[\"clusters\"]:\n",
    "                if len(cluster) == 1:\n",
    "                    singleton_cluster_count += 1\n",
    "                    singleton_ment_count += 1\n",
    "                    singleton_ment_lens.extend(get_mention_lens(cluster))\n",
    "                else:\n",
    "                    non_singleton_cluster_count += 1\n",
    "                    non_singleton_ment_count += len(cluster)\n",
    "                    non_singleton_ment_lens.extend(get_mention_lens(cluster))\n",
    "    \n",
    "    \n",
    "    avg_singleton_ment_len = np.mean(singleton_ment_lens)\n",
    "    avg_non_singleton_ment_len = np.mean(non_singleton_ment_lens)\n",
    "    \n",
    "    \n",
    "    print(input_file)\n",
    "    print(\"# of singleton clusters/mentions: \", singleton_cluster_count)\n",
    "    print(\"# of non-singleton clusters: %d & mentions: %d\" %(non_singleton_cluster_count, non_singleton_ment_count))\n",
    "    print('Average mention lens - Singleton: %.2f, Non-Singleton: %.2f' %(avg_singleton_ment_len, avg_non_singleton_ment_len))\n",
    "    print('Singleton mentions as a %age of non-singleton mentions: {0:.2f}\\n'.format(100 * singleton_cluster_count/non_singleton_ment_count))"
   ]
  }
 ],
 "metadata": {
  "kernelspec": {
   "display_name": "Python [conda env:rap_nlp] *",
   "language": "python",
   "name": "conda-env-rap_nlp-py"
  },
  "language_info": {
   "codemirror_mode": {
    "name": "ipython",
    "version": 3
   },
   "file_extension": ".py",
   "mimetype": "text/x-python",
   "name": "python",
   "nbconvert_exporter": "python",
   "pygments_lexer": "ipython3",
   "version": "3.8.5"
  }
 },
 "nbformat": 4,
 "nbformat_minor": 5
}
