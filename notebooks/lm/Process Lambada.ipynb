{
 "cells": [
  {
   "cell_type": "code",
   "execution_count": 44,
   "metadata": {},
   "outputs": [],
   "source": [
    "import os\n",
    "import glob\n",
    "from os import path\n",
    "from transformers import BasicTokenizer"
   ]
  },
  {
   "cell_type": "code",
   "execution_count": 45,
   "metadata": {},
   "outputs": [],
   "source": [
    "data_dir = \"/home/shtoshni/Research/rap_nlp/data/lambada/final_data\"\n",
    "data_files = [path.join(data_dir, f\"{split}.txt\") for split in [\"train\", \"dev\", \"test\"]]\n",
    "# data_files = [path.join(data_dir, f\"{split}.txt\") for split in [\"val\", \"test\"]]\n",
    "\n",
    "tokenizer = BasicTokenizer()"
   ]
  },
  {
   "cell_type": "code",
   "execution_count": 46,
   "metadata": {},
   "outputs": [],
   "source": [
    "stopwords = {'ourselves', 'hers', 'between', 'yourself', 'but', 'again', 'there', 'about', 'once', 'during', \n",
    "             'out', 'very', 'having', 'with', 'they', 'own', 'an', 'be', 'some', 'for', 'do', 'its', \n",
    "             'yours', 'such', 'into', 'of', 'most', 'itself', 'other', 'off', 'is', 's', 'am', 'or', \n",
    "             'who', 'as', 'from', 'him', 'each', 'the', 'themselves', 'until', 'below', 'are', 'we', \n",
    "             'these', 'your', 'his', 'through', 'don', 'nor', 'me', 'were', 'her', 'more', 'himself', \n",
    "             'this', 'down', 'should', 'our', 'their', 'while', 'above', 'both', 'up', 'to', 'ours', \n",
    "             'had', 'she', 'all', 'no', 'when', 'at', 'any', 'before', 'them', 'same', 'and', 'been', \n",
    "             'have', 'in', 'will', 'on', 'does', 'yourselves', 'then', 'that', 'because', 'what', 'over', \n",
    "             'why', 'so', 'can', 'did', 'not', 'now', 'under', 'he', 'you', 'herself', 'has', 'just', \n",
    "             'where', 'too', 'only', 'myself', 'which', 'those', 'i', 'after', 'few', 'whom', 't', \n",
    "             'being', 'if', 'theirs', 'my', 'against', 'a', 'by', 'doing', 'it', 'how', 'further', \n",
    "             'was', 'here', 'than'}\n",
    "\n",
    "# stopword_file = \"/home/shtoshni/Research/rap_nlp/data/lambada/proc_wiseman/mctest-stopwords.txt\"\n",
    "\n",
    "# def load_stopwords(stopword_file):\n",
    "#     stopwords = set()\n",
    "#     with open(stopword_file) as f:\n",
    "#         for text in f:\n",
    "#             text = text.strip()\n",
    "#             stopwords.add(text)\n",
    "            \n",
    "#     return stopwords"
   ]
  },
  {
   "cell_type": "code",
   "execution_count": 47,
   "metadata": {},
   "outputs": [],
   "source": [
    "def preprocess(text):\n",
    "    text = text.replace(\"“\", '\"')\n",
    "    text = text.replace(\"”\", '\"')\n",
    "    text = text.replace(\"''\", '\"')\n",
    "    text = text.replace(\"``\", '\"')\n",
    "    return text.strip()\n",
    "\n",
    "\n",
    "def remove_last_word(line):\n",
    "    line = line.strip()\n",
    "    toks = tokenizer.tokenize(line)\n",
    "    length_of_word = len(toks[-1])\n",
    "    assert length_of_word>0\n",
    "    return line[:-length_of_word].strip(), toks[-1]"
   ]
  },
  {
   "cell_type": "code",
   "execution_count": 48,
   "metadata": {},
   "outputs": [],
   "source": [
    "stopwords = load_stopwords(stopword_file)\n",
    "\n",
    "for data_file in data_files:\n",
    "    proc_file = path.join(data_dir, \"proc_\" + path.basename(data_file))\n",
    "    is_train = (\"train\" in path.basename(data_file))\n",
    "    with open(data_file) as read_f, open(proc_file, 'w') as write_f:\n",
    "        for instance in read_f:\n",
    "            instance = preprocess(instance)\n",
    "            prefix, last_word = remove_last_word(instance)\n",
    "            if is_train:\n",
    "                if last_word not in stopwords:\n",
    "                    write_f.write(f\"{prefix}\\t{last_word}\\n\")\n",
    "            else:\n",
    "                write_f.write(f\"{prefix}\\t{last_word}\\n\")"
   ]
  }
 ],
 "metadata": {
  "kernelspec": {
   "display_name": "Python [conda env:lm_inductive]",
   "language": "python",
   "name": "conda-env-lm_inductive-py"
  },
  "language_info": {
   "codemirror_mode": {
    "name": "ipython",
    "version": 3
   },
   "file_extension": ".py",
   "mimetype": "text/x-python",
   "name": "python",
   "nbconvert_exporter": "python",
   "pygments_lexer": "ipython3",
   "version": "3.7.7"
  }
 },
 "nbformat": 4,
 "nbformat_minor": 4
}
