{
 "cells": [
  {
   "cell_type": "code",
   "execution_count": 15,
   "id": "saved-principle",
   "metadata": {},
   "outputs": [],
   "source": [
    "import json\n",
    "import os \n",
    "from os import path\n",
    "import glob\n",
    "import numpy as np"
   ]
  },
  {
   "cell_type": "code",
   "execution_count": 16,
   "id": "molecular-progress",
   "metadata": {},
   "outputs": [],
   "source": [
    "singleton_dir = \"/home/shtoshni/Research/litbank_coref/data/ontonotes/independent_singletons_2\"\n",
    "input_dir = \"/home/shtoshni/Research/litbank_coref/data/ontonotes/overlap\"\n",
    "output_dir = \"/home/shtoshni/Research/litbank_coref/data/ontonotes/overlap_singletons_2\"\n",
    "\n",
    "if not path.exists(output_dir):\n",
    "    os.makedirs(output_dir)\n",
    "input_files = glob.glob(path.join(input_dir, \"*.jsonlines\"))"
   ]
  },
  {
   "cell_type": "code",
   "execution_count": 17,
   "id": "successful-houston",
   "metadata": {},
   "outputs": [],
   "source": [
    "for input_file in input_files:\n",
    "    file_name = path.basename(input_file)\n",
    "    singleton_file = path.join(singleton_dir, file_name)\n",
    "    output_file = path.join(output_dir, file_name)\n",
    "    \n",
    "    with open(input_file) as input_f, open(singleton_file) as singleton_f, open(output_file, \"w\") as write_f:\n",
    "        input_data = [json.loads(line.strip()) for line in input_f.readlines()]\n",
    "        singleton_data = [json.loads(line.strip()) for line in singleton_f.readlines()]\n",
    "        \n",
    "        for input_instance, singleton_instance in zip(input_data, singleton_data):\n",
    "            assert (input_instance['doc_key'] == singleton_instance['doc_key'])\n",
    "            output_instance = input_instance\n",
    "            output_instance['clusters'] = singleton_instance['clusters']\n",
    "            \n",
    "            write_f.write(json.dumps(output_instance) + \"\\n\")    "
   ]
  }
 ],
 "metadata": {
  "kernelspec": {
   "display_name": "Python [conda env:rap_nlp] *",
   "language": "python",
   "name": "conda-env-rap_nlp-py"
  },
  "language_info": {
   "codemirror_mode": {
    "name": "ipython",
    "version": 3
   },
   "file_extension": ".py",
   "mimetype": "text/x-python",
   "name": "python",
   "nbconvert_exporter": "python",
   "pygments_lexer": "ipython3",
   "version": "3.8.5"
  }
 },
 "nbformat": 4,
 "nbformat_minor": 5
}
